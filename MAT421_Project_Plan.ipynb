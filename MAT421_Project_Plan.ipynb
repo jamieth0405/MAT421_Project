{
  "nbformat": 4,
  "nbformat_minor": 0,
  "metadata": {
    "colab": {
      "provenance": [],
      "include_colab_link": true
    },
    "kernelspec": {
      "name": "python3",
      "display_name": "Python 3"
    },
    "language_info": {
      "name": "python"
    }
  },
  "cells": [
    {
      "cell_type": "markdown",
      "metadata": {
        "id": "view-in-github",
        "colab_type": "text"
      },
      "source": [
        "<a href=\"https://colab.research.google.com/github/jamieth0405/MAT421_Project/blob/main/MAT421_Project_Plan.ipynb\" target=\"_parent\"><img src=\"https://colab.research.google.com/assets/colab-badge.svg\" alt=\"Open In Colab\"/></a>"
      ]
    },
    {
      "cell_type": "markdown",
      "source": [
        "###**MAT421 Project Plan**\n",
        "\n",
        "Group Members: Jamie Dinh, Gabriel Pascual"
      ],
      "metadata": {
        "id": "vTXAPljr9jJb"
      }
    },
    {
      "cell_type": "markdown",
      "source": [
        "**Introduction**"
      ],
      "metadata": {
        "id": "kpPTUuLo9ymM"
      }
    },
    {
      "cell_type": "markdown",
      "source": [
        "Diabetes is a disease that occurs when blood sugar levels are high from a lack of insulin production. This disease affects many people around the world and detecting it early on could prevent long-term issues. The first step in catching diabetes is understanding the factors/variables that correlate to the development of this disease. Our main objective is to create a model using various features to predict the presence of any early stages of diabetes for an individual. This could help with early detection and diagnosis for those who are prone to this disease."
      ],
      "metadata": {
        "id": "7Er0YpkhaHEq"
      }
    },
    {
      "cell_type": "markdown",
      "source": [
        "**Related Work**"
      ],
      "metadata": {
        "id": "T_qPmWXmiS2t"
      }
    },
    {
      "cell_type": "markdown",
      "source": [
        "There have been previous studies using different approaches to predict diabetes using logistic regression, random forest, K-nearest neighbors, and Naive Bayes. However, there has been less exploration of simpler models, such as multiple linear regression, which has the benefit of being easy to interpret and implement. This project fills that gap by examining how accurately multiple linear regression can predict diabetes.\n"
      ],
      "metadata": {
        "id": "5FoHczozjGVy"
      }
    },
    {
      "cell_type": "markdown",
      "source": [
        "**Methodology/Models**"
      ],
      "metadata": {
        "id": "DPAYGm9hjGu4"
      }
    },
    {
      "cell_type": "markdown",
      "source": [
        "We will use a multiple linear regression model to predict diabetes progression. Key steps include data preprocessing (handling missing values, normalizing features, and splitting the dataset into training and testing sets). Python libraries like pandas, scikit-learn, and numpy will be used for implementation. The model will be trained on popular features such as glucose levels, BMI, and age (for example), with diabetes progression as the target variable."
      ],
      "metadata": {
        "id": "UF_OaS1RjKTE"
      }
    },
    {
      "cell_type": "markdown",
      "source": [
        "**Experiment Setups**"
      ],
      "metadata": {
        "id": "GlcizVG7jK3A"
      }
    },
    {
      "cell_type": "markdown",
      "source": [
        "The dataset will be split into 70% training and 30% testing sets. Cross-validation will be used to evaluate model performance with hyperparameter tuning, and metrics such as precision, recall, F1 score and accuracy score. Moreover, plots and graphs will be included to present the efficiency of the model. The experiment will be implemented using scikit-learn, and key steps like data preprocessing, model training, and evaluation will be documented in Jupyter notebooks through Colab."
      ],
      "metadata": {
        "id": "gxTdTY61yPRt"
      }
    },
    {
      "cell_type": "markdown",
      "source": [
        "**Expected Results**"
      ],
      "metadata": {
        "id": "cEbIqH-yjNtV"
      }
    },
    {
      "cell_type": "markdown",
      "source": [
        "The multiple linear regression model is expected to achieve reasonable accuracy in predicting diabetes progression compared to other machine learning models. Key features like glucose levels and BMI (for example) are likely to be significant predictors. However, the model’s simplicity may limit its ability to capture non-linear relationships. That is also the reason why most of the related works used more complex models, not linear regression. But again, we expect the model to perform well enough to see if it could be used as an option to apply into the data and machine learning in the future.\n",
        "\n",
        "\n"
      ],
      "metadata": {
        "id": "t-ESKHH7jWhd"
      }
    }
  ]
}