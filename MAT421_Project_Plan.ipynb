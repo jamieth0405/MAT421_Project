{
  "nbformat": 4,
  "nbformat_minor": 0,
  "metadata": {
    "colab": {
      "provenance": [],
      "authorship_tag": "ABX9TyPLfNq8ZVqwvasoMJcPARhe",
      "include_colab_link": true
    },
    "kernelspec": {
      "name": "python3",
      "display_name": "Python 3"
    },
    "language_info": {
      "name": "python"
    }
  },
  "cells": [
    {
      "cell_type": "markdown",
      "metadata": {
        "id": "view-in-github",
        "colab_type": "text"
      },
      "source": [
        "<a href=\"https://colab.research.google.com/github/jamieth0405/MAT421_Project/blob/main/MAT421_Project_Plan.ipynb\" target=\"_parent\"><img src=\"https://colab.research.google.com/assets/colab-badge.svg\" alt=\"Open In Colab\"/></a>"
      ]
    },
    {
      "cell_type": "markdown",
      "source": [
        "###**MAT421 Project Plan**\n",
        "\n",
        "Group Members: Jamie Dinh, Gabriel Pascual"
      ],
      "metadata": {
        "id": "vTXAPljr9jJb"
      }
    },
    {
      "cell_type": "markdown",
      "source": [
        "1. Introduction\n",
        "\n",
        "2. Related Work"
      ],
      "metadata": {
        "id": "kpPTUuLo9ymM"
      }
    }
  ]
}